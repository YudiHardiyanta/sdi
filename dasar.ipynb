{
 "cells": [
  {
   "cell_type": "code",
   "execution_count": 4,
   "id": "166cfd14",
   "metadata": {},
   "outputs": [],
   "source": [
    "import pandas as pd\n",
    "import requests as r\n",
    "import json"
   ]
  },
  {
   "cell_type": "code",
   "execution_count": 9,
   "id": "42d4a736",
   "metadata": {},
   "outputs": [],
   "source": [
    "#setting konfigurasi\n",
    "with open(\"env.json\", \"r\", encoding=\"utf-8\") as file:\n",
    "    config = json.load(file)  # Membaca dan parsing JSON\n"
   ]
  },
  {
   "cell_type": "code",
   "execution_count": 11,
   "id": "e9de0f3d",
   "metadata": {},
   "outputs": [],
   "source": [
    "#Get Daftar Data Dinamis BPS Bali\n",
    "def getVarByDomain(domain='5100'):\n",
    "    global config\n",
    "    var_pages=[]\n",
    "    var = r.get(f'https://webapi.bps.go.id/v1/api/list/model/var/domain/{domain}/key/{config['token']}/')\n",
    "    pages=var.json()['data'][0]['pages']\n",
    "    current_page = 1\n",
    "    while current_page <= pages:\n",
    "        url = f'https://webapi.bps.go.id/v1/api/list/model/var/domain/{domain}/page/{current_page}/key/{config['token']}/'\n",
    "        var_page=r.get(url)\n",
    "        var_pages.append(pd.json_normalize(var_page.json()['data'][1]))\n",
    "        current_page=current_page+1\n",
    "    var_pages_df = pd.concat(var_pages)\n",
    "    return var_pages_df"
   ]
  },
  {
   "cell_type": "code",
   "execution_count": 37,
   "id": "3921c743",
   "metadata": {},
   "outputs": [],
   "source": [
    "#Get Daftar Periode\n",
    "def getPriodeByVar(domain='5100',varId='106'):\n",
    "    global config\n",
    "    current_page = 1\n",
    "    url = f'https://webapi.bps.go.id/v1/api/list/model/th/domain/{domain}/var/{varId}/page/{current_page}/key/{config['token']}/'\n",
    "    dt_json = r.get(url)\n",
    "    pages = dt_json.json()['data'][0]['pages']\n",
    "    dt_all = []\n",
    "    while current_page <= pages:\n",
    "        url = f'https://webapi.bps.go.id/v1/api/list/model/th/domain/{domain}/var/{varId}/page/{current_page}/key/{config['token']}/'\n",
    "        dt = pd.json_normalize(dt_json.json()['data'][1])\n",
    "        dt_all.append(dt)\n",
    "        current_page = current_page+1\n",
    "    dt_all = pd.concat(dt_all)\n",
    "    dt_all['varId']=varId\n",
    "    return dt_all"
   ]
  },
  {
   "cell_type": "code",
   "execution_count": 59,
   "id": "4b0e0657",
   "metadata": {},
   "outputs": [],
   "source": [
    "def crossJoin(left,right):\n",
    "    if left.empty:\n",
    "        left = right\n",
    "    else:\n",
    "        left = pd.merge(left,right,how='cross')\n",
    "    return left\n",
    "def getDataByVarId(varId='106',domain='5100'):\n",
    "    global config\n",
    "    #Banyaknya Wisatawan Mancanegara Bulanan ke Bali Menurut Pintu Masuk\n",
    "    dt_th = getPriodeByVar(domain=domain,varId=varId)\n",
    "    dt_all = []\n",
    "    for i in dt_th.index:\n",
    "        th_id = dt_th.iloc[i]['th_id']\n",
    "        url = f'https://webapi.bps.go.id/v1/api/list/model/data/domain/{domain}/var/{varId}/key/{config['token']}/th/{th_id}/'\n",
    "        dt_json = r.get(url)\n",
    "        attr = pd.DataFrame()\n",
    "        if 'vervar' in dt_json.json().keys():\n",
    "            vervar=pd.json_normalize(dt_json.json()['vervar'])\n",
    "            vervar=vervar.rename(columns={'val': 'verval_val','label': 'vervar_label'})\n",
    "            attr = crossJoin(attr,vervar)\n",
    "        if 'var' in dt_json.json().keys():\n",
    "            var=pd.json_normalize(dt_json.json()['var'])\n",
    "            var=var.rename(columns={'val': 'var_val','label': 'var_label'})\n",
    "            var=var[['var_val']]\n",
    "            attr = crossJoin(attr,var)\n",
    "        if 'turvar' in dt_json.json().keys():\n",
    "            turvar=pd.json_normalize(dt_json.json()['turvar'])\n",
    "            turvar=turvar.rename(columns={'val': 'turvar_val','label': 'turvar_label'})\n",
    "            attr = crossJoin(attr,turvar)\n",
    "        if 'tahun' in dt_json.json().keys():\n",
    "            tahun=pd.json_normalize(dt_json.json()['tahun'])\n",
    "            tahun=tahun.rename(columns={'val': 'tahun_val','label': 'tahun_label'})\n",
    "            attr = crossJoin(attr,tahun)\n",
    "        if 'turtahun' in dt_json.json().keys():\n",
    "            turtahun=pd.json_normalize(dt_json.json()['turtahun'])\n",
    "            turtahun=turtahun.rename(columns={'val': 'turtahun_val','label': 'turtahun_label'})\n",
    "            attr = crossJoin(attr,turtahun)\n",
    "        val_columns = [col for col in attr.columns if col.endswith('val')]\n",
    "        attr['id']=attr[val_columns].astype('str').agg(''.join, axis=1)\n",
    "        dt_content=pd.json_normalize(dt_json.json()['datacontent']).transpose().reset_index().rename(columns={'index':'content_val',0:'content_label'})\n",
    "        attr = pd.merge(attr,dt_content,left_on='id',right_on='content_val',how='left')\n",
    "        attr = attr[attr.content_label.notna()]\n",
    "        dt_all.append(attr)\n",
    "    dt_all=pd.concat(dt_all)\n",
    "    return dt_all"
   ]
  },
  {
   "cell_type": "code",
   "execution_count": null,
   "id": "6d5e48a7",
   "metadata": {},
   "outputs": [],
   "source": []
  },
  {
   "cell_type": "code",
   "execution_count": null,
   "id": "c2cef902",
   "metadata": {},
   "outputs": [],
   "source": [
    "daftar_data=getVarByDomain(domain='5100')\n",
    "#daftar_data.to_excel('daftar_data_web_api_dinamis.xlsx')\n",
    "#Contoh akan mengambil data by id dari daftar data\n",
    "data=getDataByVarId(domain='5100',varId='47')"
   ]
  },
  {
   "cell_type": "code",
   "execution_count": null,
   "id": "8aa97e6a",
   "metadata": {},
   "outputs": [],
   "source": [
    "### id 47 Inflasi Tahunan Kota Singaraja Menurut 7 Kelompok Pengeluaran\n",
    "### korelasi dengan web BPS\n",
    "### modifikasi ke bentuk seperti ini \n",
    "# https://bali.bps.go.id/id/statistics-table/2/NDcjMg==/inflasi-tahunan-kota-singaraja-menurut-7-kelompok-pengeluaran.html"
   ]
  },
  {
   "cell_type": "code",
   "execution_count": 63,
   "id": "51bfa4a8",
   "metadata": {},
   "outputs": [],
   "source": [
    "data.to_excel('data_47.xlsx')"
   ]
  }
 ],
 "metadata": {
  "kernelspec": {
   "display_name": "Python 3",
   "language": "python",
   "name": "python3"
  },
  "language_info": {
   "codemirror_mode": {
    "name": "ipython",
    "version": 3
   },
   "file_extension": ".py",
   "mimetype": "text/x-python",
   "name": "python",
   "nbconvert_exporter": "python",
   "pygments_lexer": "ipython3",
   "version": "3.13.1"
  }
 },
 "nbformat": 4,
 "nbformat_minor": 5
}
